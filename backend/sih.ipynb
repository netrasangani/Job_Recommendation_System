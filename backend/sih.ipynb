{
 "cells": [
  {
   "cell_type": "code",
   "execution_count": 35,
   "metadata": {},
   "outputs": [],
   "source": [
    "import pandas as pd"
   ]
  },
  {
   "cell_type": "code",
   "execution_count": 36,
   "metadata": {},
   "outputs": [],
   "source": [
    "jobs= pd.read_csv(r'C:\\Users\\Isha\\OneDrive\\Desktop\\SIH\\job_descriptions.csv')"
   ]
  },
  {
   "cell_type": "code",
   "execution_count": 37,
   "metadata": {},
   "outputs": [],
   "source": [
    "jdf=pd.DataFrame(jobs)"
   ]
  },
  {
   "cell_type": "markdown",
   "metadata": {},
   "source": [
    "Company Profile : {\n",
    "\n",
    "         name : \n",
    "\n",
    "         job_posting_date:\n",
    "\n",
    "         url : \n",
    "\n",
    "         City:\n",
    "\n",
    "         State:\n",
    "\n",
    "         Sector : \n",
    "\n",
    "         role:\n",
    "\n",
    "         keywords : [work_type,position]\n",
    "\n",
    "         pay: \n",
    "\n",
    "         job_description : \n",
    "\n",
    "}\n"
   ]
  },
  {
   "cell_type": "code",
   "execution_count": 38,
   "metadata": {},
   "outputs": [
    {
     "name": "stdout",
     "output_type": "stream",
     "text": [
      "                   Job Id     Experience Qualifications Salary Range  \\\n",
      "0        1089843540111562  5 to 15 Years         M.Tech    $59K-$99K   \n",
      "1         398454096642776  2 to 12 Years            BCA   $56K-$116K   \n",
      "2         481640072963533  0 to 12 Years            PhD   $61K-$104K   \n",
      "3         688192671473044  4 to 11 Years            PhD    $65K-$91K   \n",
      "4         117057806156508  1 to 12 Years            MBA    $64K-$87K   \n",
      "...                   ...            ...            ...          ...   \n",
      "1615935   134563577088850  0 to 12 Years         B.Tech   $64K-$114K   \n",
      "1615936   618604818190827  2 to 14 Years         M.Tech   $62K-$130K   \n",
      "1615937   615471367712200  4 to 15 Years            BCA    $60K-$96K   \n",
      "1615938   804137342023945  5 to 15 Years            BCA   $65K-$103K   \n",
      "1615939   404645755314484  1 to 11 Years            BBA   $56K-$109K   \n",
      "\n",
      "                  location            Country  latitude  longitude  Work Type  \\\n",
      "0                  Douglas        Isle of Man   54.2361    -4.5481     Intern   \n",
      "1                 Ashgabat       Turkmenistan   38.9697    59.5563     Intern   \n",
      "2                    Macao   Macao SAR, China   22.1987   113.5439  Temporary   \n",
      "3               Porto-Novo              Benin    9.3077     2.3158  Full-Time   \n",
      "4                 Santiago              Chile  -35.6751   -71.5429     Intern   \n",
      "...                    ...                ...       ...        ...        ...   \n",
      "1615935  Malabo (de jure),  Equatorial Guinea    1.6508    10.2679  Full-Time   \n",
      "1615936             Warsaw             Poland   51.9194    19.1451     Intern   \n",
      "1615937           Ashgabat       Turkmenistan   38.9697    59.5563  Part-Time   \n",
      "1615938        Ouagadougou       Burkina Faso   12.2383    -1.5616  Full-Time   \n",
      "1615939             Asmara            Eritrea   15.1794    39.7823  Part-Time   \n",
      "\n",
      "         Company Size  ...                     Job Title  \\\n",
      "0               26801  ...  Digital Marketing Specialist   \n",
      "1              100340  ...                 Web Developer   \n",
      "2               84525  ...            Operations Manager   \n",
      "3              129896  ...              Network Engineer   \n",
      "4               53944  ...                 Event Manager   \n",
      "...               ...  ...                           ...   \n",
      "1615935         18281  ...           Mechanical Engineer   \n",
      "1615936         63621  ...                    IT Manager   \n",
      "1615937        114287  ...           Mechanical Engineer   \n",
      "1615938         45009  ...                HR Coordinator   \n",
      "1615939         87637  ...                 Event Planner   \n",
      "\n",
      "                               Role           Job Portal  \\\n",
      "0              Social Media Manager             Snagajob   \n",
      "1            Frontend Web Developer             Idealist   \n",
      "2           Quality Control Manager         Jobs2Careers   \n",
      "3         Wireless Network Engineer             FlexJobs   \n",
      "4                Conference Manager         Jobs2Careers   \n",
      "...                             ...                  ...   \n",
      "1615935  Mechanical Design Engineer         ZipRecruiter   \n",
      "1615936                 IT Director              USAJOBS   \n",
      "1615937  Mechanical Design Engineer               Indeed   \n",
      "1615938        Training Coordinator  Stack Overflow Jobs   \n",
      "1615939             Wedding Planner              USAJOBS   \n",
      "\n",
      "                                           Job Description  \\\n",
      "0        Social Media Managers oversee an organizations...   \n",
      "1        Frontend Web Developers design and implement u...   \n",
      "2        Quality Control Managers establish and enforce...   \n",
      "3        Wireless Network Engineers design, implement, ...   \n",
      "4        A Conference Manager coordinates and manages c...   \n",
      "...                                                    ...   \n",
      "1615935  Mechanical Design Engineers create and develop...   \n",
      "1615936  An IT Director oversees an organizations IT de...   \n",
      "1615937  Mechanical Design Engineers create and develop...   \n",
      "1615938  Training Coordinators design and implement emp...   \n",
      "1615939  Wedding Planners specialize in organizing wedd...   \n",
      "\n",
      "                                                  Benefits  \\\n",
      "0        {'Flexible Spending Accounts (FSAs), Relocatio...   \n",
      "1        {'Health Insurance, Retirement Plans, Paid Tim...   \n",
      "2        {'Legal Assistance, Bonuses and Incentive Prog...   \n",
      "3        {'Transportation Benefits, Professional Develo...   \n",
      "4        {'Flexible Spending Accounts (FSAs), Relocatio...   \n",
      "...                                                    ...   \n",
      "1615935  {'Employee Assistance Programs (EAP), Tuition ...   \n",
      "1615936  {'Health Insurance, Retirement Plans, Paid Tim...   \n",
      "1615937  {'Tuition Reimbursement, Stock Options or Equi...   \n",
      "1615938  {'Casual Dress Code, Social and Recreational A...   \n",
      "1615939  {'Transportation Benefits, Professional Develo...   \n",
      "\n",
      "                                                    skills  \\\n",
      "0        Social media platforms (e.g., Facebook, Twitte...   \n",
      "1        HTML, CSS, JavaScript Frontend frameworks (e.g...   \n",
      "2        Quality control processes and methodologies St...   \n",
      "3        Wireless network design and architecture Wi-Fi...   \n",
      "4        Event planning Conference logistics Budget man...   \n",
      "...                                                    ...   \n",
      "1615935  Mechanical engineering CAD software (e.g., Sol...   \n",
      "1615936  Strategic IT planning Leadership and managemen...   \n",
      "1615937  Mechanical engineering CAD software (e.g., Sol...   \n",
      "1615938  Training program coordination Training materia...   \n",
      "1615939  Wedding planning Venue selection Catering and ...   \n",
      "\n",
      "                                          Responsibilities  \\\n",
      "0        Manage and grow social media accounts, create ...   \n",
      "1        Design and code user interfaces for websites, ...   \n",
      "2        Establish and enforce quality control standard...   \n",
      "3        Design, configure, and optimize wireless netwo...   \n",
      "4        Specialize in conference and convention planni...   \n",
      "...                                                    ...   \n",
      "1615935  Design mechanical systems, components, and pro...   \n",
      "1615936  Provide strategic leadership for IT department...   \n",
      "1615937  Design mechanical systems, components, and pro...   \n",
      "1615938  Coordinate employee training programs, track t...   \n",
      "1615939  Specialize in wedding planning, assisting coup...   \n",
      "\n",
      "                                  Company  \\\n",
      "0                       Icahn Enterprises   \n",
      "1            PNC Financial Services Group   \n",
      "2        United Services Automobile Assn.   \n",
      "3                                    Hess   \n",
      "4                            Cairn Energy   \n",
      "...                                   ...   \n",
      "1615935               The Hershey Company   \n",
      "1615936                               EQT   \n",
      "1615937                               KLA   \n",
      "1615938               Mahindra & Mahindra   \n",
      "1615939                     Ashtead Group   \n",
      "\n",
      "                                           Company Profile  \\\n",
      "0        {\"Sector\":\"Diversified\",\"Industry\":\"Diversifie...   \n",
      "1        {\"Sector\":\"Financial Services\",\"Industry\":\"Com...   \n",
      "2        {\"Sector\":\"Insurance\",\"Industry\":\"Insurance: P...   \n",
      "3        {\"Sector\":\"Energy\",\"Industry\":\"Mining, Crude-O...   \n",
      "4        {\"Sector\":\"Energy\",\"Industry\":\"Energy - Oil & ...   \n",
      "...                                                    ...   \n",
      "1615935  {\"Sector\":\"Food and Beverage/Confectionery\",\"I...   \n",
      "1615936  {\"Sector\":\"Energy\",\"Industry\":\"Energy\",\"City\":...   \n",
      "1615937  {\"Sector\":\"Technology\",\"Industry\":\"Semiconduct...   \n",
      "1615938  {\"Sector\":\"Automotive\",\"Industry\":\"Automotive\"...   \n",
      "1615939  {\"Sector\":\"Equipment Rental\",\"Industry\":\"Equip...   \n",
      "\n",
      "                                                    inform  \n",
      "0        {\"Sector\":\"Diversified\",\"Industry\":\"Diversifie...  \n",
      "1        {\"Sector\":\"Financial Services\",\"Industry\":\"Com...  \n",
      "2        {\"Sector\":\"Insurance\",\"Industry\":\"Insurance: P...  \n",
      "3        {\"Sector\":\"Energy\",\"Industry\":\"Mining, Crude-O...  \n",
      "4        {\"Sector\":\"Energy\",\"Industry\":\"Energy - Oil & ...  \n",
      "...                                                    ...  \n",
      "1615935  {\"Sector\":\"Food and Beverage/Confectionery\",\"I...  \n",
      "1615936  {\"Sector\":\"Energy\",\"Industry\":\"Energy\",\"City\":...  \n",
      "1615937  {\"Sector\":\"Technology\",\"Industry\":\"Semiconduct...  \n",
      "1615938  {\"Sector\":\"Automotive\",\"Industry\":\"Automotive\"...  \n",
      "1615939  {\"Sector\":\"Equipment Rental\",\"Industry\":\"Equip...  \n",
      "\n",
      "[1615940 rows x 24 columns]\n"
     ]
    }
   ],
   "source": [
    "import json\n",
    "\n",
    "def add_company_name(row):\n",
    "    if isinstance(row['Company Profile'], str):\n",
    "        details = row['Company Profile']\n",
    "        \n",
    "        # Convert 'experience' to a JSON array format\n",
    "        experience = row['Experience']\n",
    "        if isinstance(experience, list):\n",
    "            experience_str = json.dumps(experience)  # Converts list to JSON array string\n",
    "        else:\n",
    "            experience_str = f'\"{experience}\"'\n",
    "        \n",
    "        # Construct the new details with proper formatting\n",
    "        new_details = (details[:-1] +  # Remove the last closing brace from the original details\n",
    "                       f', \"name\": \"{row[\"Company\"]}\", '\n",
    "                       f'\"posted\": \"{row[\"Job Posting Date\"]}\", '\n",
    "                       f'\"id\": \"{row[\"Job Id\"]}\", '\n",
    "                       f'\"country\": \"{row[\"Country\"]}\", '\n",
    "                       f'\"title\": \"{row[\"Job Title\"]}\", '\n",
    "                       f'\"experience\": {experience_str}, '  # Experience as array\n",
    "                       f'\"role\": \"{row[\"Role\"]}\", '\n",
    "                       f'\"type\": \"{row[\"Work Type\"]}\", '\n",
    "                       f'\"location\": \"{row[\"location\"]}\", '\n",
    "                       f'\"skills\": \"{row[\"skills\"]}\", '\n",
    "                       f'\"pay\": \"{row[\"Salary Range\"]}\", '\n",
    "                       f'\"description\": \"{row[\"Job Description\"]}\", '\n",
    "                       f'\"qualification\": \"{row[\"Qualifications\"]}\"' + '}')\n",
    "        return new_details\n",
    "    else:\n",
    "        return row['Company Profile']\n",
    "\n",
    "# Apply the function to the DataFrame\n",
    "jdf['inform'] = jdf.apply(add_company_name, axis=1)\n",
    "\n",
    "print(jdf)"
   ]
  },
  {
   "cell_type": "code",
   "execution_count": 39,
   "metadata": {},
   "outputs": [
    {
     "data": {
      "text/plain": [
       "'{\"Sector\":\"Diversified\",\"Industry\":\"Diversified Financials\",\"City\":\"Sunny Isles Beach\",\"State\":\"Florida\",\"Zip\":\"33160\",\"Website\":\"www.ielp.com\",\"Ticker\":\"IEP\",\"CEO\":\"David Willetts\", \"name\": \"Icahn Enterprises\", \"posted\": \"2022-04-24\", \"id\": \"1089843540111562\", \"country\": \"Isle of Man\", \"title\": \"Digital Marketing Specialist\", \"experience\": \"5 to 15 Years\", \"role\": \"Social Media Manager\", \"type\": \"Intern\", \"location\": \"Douglas\", \"skills\": \"Social media platforms (e.g., Facebook, Twitter, Instagram) Content creation and scheduling Social media analytics and insights Community engagement Paid social advertising\", \"pay\": \"$59K-$99K\", \"description\": \"Social Media Managers oversee an organizations social media presence. They create and schedule content, engage with followers, and analyze social media metrics to drive brand awareness and engagement.\", \"qualification\": \"M.Tech\"}'"
      ]
     },
     "execution_count": 39,
     "metadata": {},
     "output_type": "execute_result"
    }
   ],
   "source": [
    "jdf['inform'][0]"
   ]
  },
  {
   "cell_type": "code",
   "execution_count": 40,
   "metadata": {},
   "outputs": [],
   "source": [
    "import re"
   ]
  },
  {
   "cell_type": "code",
   "execution_count": 41,
   "metadata": {},
   "outputs": [],
   "source": [
    "def preprocessing(content):\n",
    "    # Remove non-alphabetic characters, convert to lowercase, and split\n",
    "    stemmed_content = re.sub('[^a-zA-Z]', ' ', content).lower().split()\n",
    "    # Remove stopwords and stem remaining words\n",
    "    \n",
    "    return ' '.join(stemmed_content)\n"
   ]
  },
  {
   "cell_type": "code",
   "execution_count": 42,
   "metadata": {},
   "outputs": [],
   "source": [
    "jdf['Qualifications']=jdf['Qualifications'].apply(preprocessing)"
   ]
  },
  {
   "cell_type": "code",
   "execution_count": 43,
   "metadata": {},
   "outputs": [],
   "source": [
    "jdf['Work Type']=jdf['Work Type'].apply(preprocessing)"
   ]
  },
  {
   "cell_type": "code",
   "execution_count": 44,
   "metadata": {},
   "outputs": [],
   "source": [
    "jdf['skills']=jdf['skills'].apply(preprocessing)"
   ]
  },
  {
   "cell_type": "code",
   "execution_count": 45,
   "metadata": {},
   "outputs": [],
   "source": [
    "jdf['Job Description']=jdf['Job Description'].apply(preprocessing)"
   ]
  },
  {
   "cell_type": "code",
   "execution_count": 46,
   "metadata": {},
   "outputs": [],
   "source": [
    "jdf['Role']=jdf['Role'].apply(preprocessing)"
   ]
  },
  {
   "cell_type": "code",
   "execution_count": 47,
   "metadata": {},
   "outputs": [],
   "source": [
    "jdf['Company']=jdf['Company'].apply(preprocessing)"
   ]
  },
  {
   "cell_type": "code",
   "execution_count": 48,
   "metadata": {},
   "outputs": [],
   "source": [
    "jdf['Job Title']=jdf['Job Title'].apply(preprocessing)"
   ]
  },
  {
   "cell_type": "code",
   "execution_count": 49,
   "metadata": {},
   "outputs": [],
   "source": [
    "jdf['tags'] = jdf['Job Title'] +' '+ jdf['skills'] +' ' +jdf['Job Description'] +' '+jdf['Qualifications'] +' '+jdf['Role'] +' '+jdf['Company']"
   ]
  },
  {
   "cell_type": "code",
   "execution_count": 50,
   "metadata": {},
   "outputs": [
    {
     "data": {
      "text/plain": [
       "0          digital marketing specialist social media plat...\n",
       "1          web developer html css javascript frontend fra...\n",
       "2          operations manager quality control processes a...\n",
       "3          network engineer wireless network design and a...\n",
       "4          event manager event planning conference logist...\n",
       "                                 ...                        \n",
       "1615935    mechanical engineer mechanical engineering cad...\n",
       "1615936    it manager strategic it planning leadership an...\n",
       "1615937    mechanical engineer mechanical engineering cad...\n",
       "1615938    hr coordinator training program coordination t...\n",
       "1615939    event planner wedding planning venue selection...\n",
       "Name: tags, Length: 1615940, dtype: object"
      ]
     },
     "execution_count": 50,
     "metadata": {},
     "output_type": "execute_result"
    }
   ],
   "source": [
    "jdf['tags']"
   ]
  },
  {
   "cell_type": "code",
   "execution_count": 51,
   "metadata": {},
   "outputs": [],
   "source": [
    "from nltk.stem import PorterStemmer\n"
   ]
  },
  {
   "cell_type": "code",
   "execution_count": 52,
   "metadata": {},
   "outputs": [],
   "source": [
    "port_stem=PorterStemmer()"
   ]
  },
  {
   "cell_type": "code",
   "execution_count": 53,
   "metadata": {},
   "outputs": [],
   "source": [
    "from nltk.corpus import stopwords"
   ]
  },
  {
   "cell_type": "code",
   "execution_count": 54,
   "metadata": {},
   "outputs": [
    {
     "name": "stderr",
     "output_type": "stream",
     "text": [
      "[nltk_data] Downloading package stopwords to\n",
      "[nltk_data]     C:\\Users\\Isha\\AppData\\Roaming\\nltk_data...\n",
      "[nltk_data]   Package stopwords is already up-to-date!\n"
     ]
    }
   ],
   "source": [
    "import re\n",
    "from nltk.corpus import stopwords\n",
    "from nltk.stem import PorterStemmer\n",
    "import string\n",
    "import nltk\n",
    "\n",
    "# Ensure necessary NLTK data is downloaded\n",
    "nltk.download('stopwords')\n",
    "\n",
    "# Initialize the stemmer and stopwords\n",
    "port_stem = PorterStemmer()\n",
    "stop_words = set(stopwords.words('english'))\n",
    "\n",
    "def preprocessing(content):\n",
    "    # Translate removes non-alphabetic characters and convert to lowercase\n",
    "    translator = str.maketrans('', '', string.punctuation)\n",
    "    cleaned_content = content.translate(translator).lower()\n",
    "    \n",
    "    # Split content into words\n",
    "    words = cleaned_content.split()\n",
    "    \n",
    "    # Remove stopwords and stem remaining words\n",
    "    stemmed_content = [port_stem.stem(word) for word in words if word not in stop_words]\n",
    "    \n",
    "    return ' '.join(stemmed_content)\n",
    "\n",
    "# Example usage\n",
    "\n"
   ]
  },
  {
   "cell_type": "code",
   "execution_count": 55,
   "metadata": {},
   "outputs": [
    {
     "data": {
      "text/plain": [
       "0          digital marketing specialist social media plat...\n",
       "1          web developer html css javascript frontend fra...\n",
       "2          operations manager quality control processes a...\n",
       "3          network engineer wireless network design and a...\n",
       "4          event manager event planning conference logist...\n",
       "                                 ...                        \n",
       "1615935    mechanical engineer mechanical engineering cad...\n",
       "1615936    it manager strategic it planning leadership an...\n",
       "1615937    mechanical engineer mechanical engineering cad...\n",
       "1615938    hr coordinator training program coordination t...\n",
       "1615939    event planner wedding planning venue selection...\n",
       "Name: tags, Length: 1615940, dtype: object"
      ]
     },
     "execution_count": 55,
     "metadata": {},
     "output_type": "execute_result"
    }
   ],
   "source": [
    "jdf['tags']"
   ]
  },
  {
   "cell_type": "code",
   "execution_count": 56,
   "metadata": {},
   "outputs": [],
   "source": [
    "jdf['tags']=jdf['tags'].apply(preprocessing)"
   ]
  },
  {
   "cell_type": "code",
   "execution_count": 57,
   "metadata": {},
   "outputs": [
    {
     "data": {
      "text/plain": [
       "0          digit market specialist social media platform ...\n",
       "1          web develop html css javascript frontend frame...\n",
       "2          oper manag qualiti control process methodolog ...\n",
       "3          network engin wireless network design architec...\n",
       "4          event manag event plan confer logist budget ma...\n",
       "                                 ...                        \n",
       "1615935    mechan engin mechan engin cad softwar e g soli...\n",
       "1615936    manag strateg plan leadership manag budget fin...\n",
       "1615937    mechan engin mechan engin cad softwar e g soli...\n",
       "1615938    hr coordin train program coordin train materi ...\n",
       "1615939    event planner wed plan venu select cater menu ...\n",
       "Name: tags, Length: 1615940, dtype: object"
      ]
     },
     "execution_count": 57,
     "metadata": {},
     "output_type": "execute_result"
    }
   ],
   "source": [
    "jdf['tags']"
   ]
  }
 ],
 "metadata": {
  "kernelspec": {
   "display_name": "base",
   "language": "python",
   "name": "python3"
  },
  "language_info": {
   "codemirror_mode": {
    "name": "ipython",
    "version": 3
   },
   "file_extension": ".py",
   "mimetype": "text/x-python",
   "name": "python",
   "nbconvert_exporter": "python",
   "pygments_lexer": "ipython3",
   "version": "3.12.4"
  }
 },
 "nbformat": 4,
 "nbformat_minor": 2
}
