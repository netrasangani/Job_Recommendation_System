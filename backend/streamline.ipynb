{
 "cells": [
  {
   "cell_type": "code",
   "execution_count": 1,
   "metadata": {},
   "outputs": [],
   "source": [
    "import pandas as pd"
   ]
  },
  {
   "cell_type": "code",
   "execution_count": 2,
   "metadata": {},
   "outputs": [],
   "source": [
    "import pickle"
   ]
  },
  {
   "cell_type": "code",
   "execution_count": 63,
   "metadata": {},
   "outputs": [],
   "source": [
    "with open('FINAL_ML_DATAFRAME.pkl', 'rb') as file:\n",
    "    ndf = pickle.load(file)\n",
    "    "
   ]
  },
  {
   "cell_type": "code",
   "execution_count": 47,
   "metadata": {},
   "outputs": [],
   "source": [
    "with open('FINAL_ML_SIMILARITY.pkl', 'rb') as file:\n",
    "    similarity_matrices = pickle.load(file)"
   ]
  },
  {
   "cell_type": "code",
   "execution_count": 46,
   "metadata": {},
   "outputs": [],
   "source": [
    "with open('FINAL_ML_VECTORIZER.pkl', 'rb') as file:\n",
    "    vectorizer = pickle.load(file)"
   ]
  },
  {
   "cell_type": "code",
   "execution_count": 64,
   "metadata": {},
   "outputs": [],
   "source": [
    "newsdf=pd.DataFrame(ndf)"
   ]
  },
  {
   "cell_type": "code",
   "execution_count": 51,
   "metadata": {},
   "outputs": [
    {
     "data": {
      "text/plain": [
       "\"{Sector: 'Manufacturing', Industry: 'Transportation Equipment', City: 'Medina', State: 'Minnesota', Zip: '55340', Website: 'www.polaris.com', Ticker: 'PII', CEO: 'Michael T. Speetzen', name: 'Polaris', role: 'Exotic Animal Veterinarian', description: 'Provide medical care and treatment to exotic animals, diagnose illnesses, perform surgeries, and educate owners on animal care.', posted: '2021-10-20', pay: '$58K-$107K', title: 'Veterinarian', type: 'Part-Time', id: 1360481\""
      ]
     },
     "execution_count": 51,
     "metadata": {},
     "output_type": "execute_result"
    }
   ],
   "source": [
    "newsdf['inform'][0]"
   ]
  },
  {
   "cell_type": "code",
   "execution_count": 69,
   "metadata": {},
   "outputs": [
    {
     "name": "stdout",
     "output_type": "stream",
     "text": [
      "Top 10 Recommended Companies:\n",
      "                                  Company  similarity\n",
      "0                   caesars entertainment         0.0\n",
      "66650                   adani enterprises         0.0\n",
      "66672                             avantor         0.0\n",
      "66671          bharat electronics limited         0.0\n",
      "66670                         bae systems         0.0\n",
      "66669                          albertsons         0.0\n",
      "66668  international flavors & fragrances         0.0\n",
      "66667                         emcor group         0.0\n",
      "66666                        u.s. bancorp         0.0\n",
      "66665                             sanmina         0.0\n"
     ]
    }
   ],
   "source": [
    "import numpy as np\n",
    "import pandas as pd\n",
    "import pickle\n",
    "from sklearn.feature_extraction.text import TfidfVectorizer\n",
    "from sklearn.metrics.pairwise import cosine_similarity\n",
    "import re\n",
    "from nltk.corpus import stopwords\n",
    "from nltk.stem.porter import PorterStemmer\n",
    "\n",
    "# Load the vectorizer and similarity matrices from pickle files\n",
    "with open('FINAL_ML_VECTORIZER.pkl', 'rb') as f:\n",
    "    vectorizer = pickle.load(f)\n",
    "\n",
    "with open('FINAL_ML_SIMILARITY.pkl', 'rb') as f:\n",
    "    similarity_matrices = pickle.load(f)\n",
    "\n",
    "# Load the DataFrame\n",
    "df = pd.read_pickle('FINAL_ML_DATAFRAME.pkl')\n",
    "\n",
    "# Ensure 'tags' column is treated as strings\n",
    "newsdf['tags'] = newsdf['tags'].astype(str)\n",
    "\n",
    "# Initialize the Porter Stemmer\n",
    "port_stem = PorterStemmer()\n",
    "\n",
    "# Preprocess the user input\n",
    "def preprocessing(content):\n",
    "    # Remove non-alphabetic characters and process text\n",
    "    stemmed_content = re.sub('[^a-zA-Z]', ' ', content).lower().split()\n",
    "    # Remove stopwords and stem remaining words\n",
    "    stemmed_content = [port_stem.stem(word) for word in stemmed_content if word not in stopwords.words('english')]\n",
    "    return ' '.join(stemmed_content)\n",
    "\n",
    "user_input = \"isha isha dsibiesbcisc sb iugcesbiubvsejkeugc iuegibuiseuc  \"\n",
    "\n",
    "processed_input = preprocessing(user_input)\n",
    "\n",
    "# Transform the user input using the vectorizer\n",
    "user_vector = vectorizer.transform([processed_input])\n",
    "\n",
    "# Transform the existing DataFrame to obtain TF-IDF matrix\n",
    "tfidf_matrix = vectorizer.transform(newsdf['tags'])\n",
    "\n",
    "# Compute the cosine similarity between the user input and TF-IDF matrix\n",
    "similarities = cosine_similarity(user_vector, tfidf_matrix)\n",
    "\n",
    "# Add similarity scores to DataFrame\n",
    "newsdf['similarity'] = similarities.flatten()\n",
    "\n",
    "# Sort the DataFrame by the similarity column\n",
    "recommended_companies = newsdf.sort_values(by='similarity', ascending=False)\n",
    "\n",
    "# Print top 10 recommended companies\n",
    "print(\"Top 10 Recommended Companies:\")\n",
    "print(recommended_companies[['Company', 'similarity']].head(10))\n"
   ]
  }
 ],
 "metadata": {
  "kernelspec": {
   "display_name": "base",
   "language": "python",
   "name": "python3"
  },
  "language_info": {
   "codemirror_mode": {
    "name": "ipython",
    "version": 3
   },
   "file_extension": ".py",
   "mimetype": "text/x-python",
   "name": "python",
   "nbconvert_exporter": "python",
   "pygments_lexer": "ipython3",
   "version": "3.12.4"
  }
 },
 "nbformat": 4,
 "nbformat_minor": 2
}
